{
 "cells": [
  {
   "cell_type": "code",
   "execution_count": null,
   "id": "8af712d2-55de-4b2f-b03f-75c31194db52",
   "metadata": {},
   "outputs": [],
   "source": [
    "pip install cmake"
   ]
  },
  {
   "cell_type": "code",
   "execution_count": null,
   "id": "5baabf9d-c67c-4f4a-a7b3-cb73b758e522",
   "metadata": {},
   "outputs": [],
   "source": [
    "pip install --upgrade pip setuptools wheel"
   ]
  },
  {
   "cell_type": "code",
   "execution_count": null,
   "id": "c66b2af8-d5fa-4c5d-92fb-2a57e613347e",
   "metadata": {},
   "outputs": [],
   "source": [
    "pip install dlib"
   ]
  },
  {
   "cell_type": "code",
   "execution_count": null,
   "id": "0b6f3805-470d-4990-afc8-36efc799e89c",
   "metadata": {},
   "outputs": [],
   "source": [
    "pip install face_recognition"
   ]
  },
  {
   "cell_type": "code",
   "execution_count": null,
   "id": "fd60686f-0695-48fe-a968-617adccdfbc5",
   "metadata": {},
   "outputs": [],
   "source": [
    "pip install scipy"
   ]
  },
  {
   "cell_type": "code",
   "execution_count": null,
   "id": "9f9f1722-51d4-4d5b-8cab-be0d68773b7f",
   "metadata": {},
   "outputs": [],
   "source": [
    "pip install threading"
   ]
  },
  {
   "cell_type": "code",
   "execution_count": null,
   "id": "e6308723-ca62-493c-9a4e-fc4dbe033c7a",
   "metadata": {},
   "outputs": [],
   "source": [
    "pip install playsound"
   ]
  },
  {
   "cell_type": "code",
   "execution_count": null,
   "id": "2de6e396-8ad0-498b-ade7-e7099b2bcdd4",
   "metadata": {},
   "outputs": [],
   "source": [
    "pip install opencv-python opencv-python-headless"
   ]
  },
  {
   "cell_type": "code",
   "execution_count": null,
   "id": "213b6704-5b75-43d5-9460-0f2a5165cf10",
   "metadata": {},
   "outputs": [],
   "source": [
    "pip install --upgrade opencv-python"
   ]
  },
  {
   "cell_type": "code",
   "execution_count": 1,
   "id": "8fdee814-ed80-4be0-8558-99d678e33ab0",
   "metadata": {},
   "outputs": [],
   "source": [
    "import face_recognition\n",
    "import cv2\n",
    "import time\n",
    "from scipy.spatial import distance as dist\n",
    "import playsound\n",
    "import threading\n",
    "import numpy as np"
   ]
  },
  {
   "cell_type": "code",
   "execution_count": 2,
   "id": "d6cb47aa-83ac-4d60-98f5-353edef2c97a",
   "metadata": {},
   "outputs": [],
   "source": [
    "MIN_EAR = 0.30                  # Minimum Eye Aspect Ratio\n",
    "EYE_AR_CONSEC_FRAMES = 10       # Minimum number of frames required to confirm Drowsiness\n",
    "\n",
    "COUNTER = 0                     # To count the number of frames\n",
    "ALARM_ON = False                # To switch on / off the alarm\n"
   ]
  },
  {
   "cell_type": "code",
   "execution_count": 3,
   "id": "b45f9f56-090e-4e0a-aa23-1580586304a5",
   "metadata": {},
   "outputs": [],
   "source": [
    "import playsound\n",
    "\n",
    "def sound_alarm(sound_file):\n",
    "    playsound.playsound(sound_file)\n"
   ]
  },
  {
   "cell_type": "code",
   "execution_count": 4,
   "id": "f2d0b489-3dc1-4721-93ec-266a1d619721",
   "metadata": {},
   "outputs": [],
   "source": [
    "def eye_aspect_ratio(eye):\n",
    "    A = dist.euclidean(eye[1],eye[5])   # First vertical distance of eye closure (p1,p5)\n",
    "    B = dist.euclidean(eye[2],eye[5])   # Second vertical distance of eye closure (p2,p4)\n",
    "    C = dist.euclidean(eye[0],eye[3])   # Horizontal distance of eye closure (p0,p3)\n",
    "\n",
    "    ear = (A+B)/(2*C)                   # Eye Aspect Ratio\n",
    "    return ear"
   ]
  },
  {
   "cell_type": "code",
   "execution_count": 5,
   "id": "797e5a7a-77c9-4d8d-8ecf-be85622531f2",
   "metadata": {},
   "outputs": [],
   "source": [
    "def main():\n",
    "    global COUNTER,ALARM_ON\n",
    "    sound_file = r\"C:\\Users\\Dell\\Downloads\\Thoongathe_ringtone.mp3\"\n",
    "    \n",
    "    video_capture = cv2.VideoCapture(0)\n",
    "    video_capture.set(3,320)       #To resize the video capturing frame width  3-width to 320 pixels\n",
    "    video_capture.set(4,240)       #To resize the video capturing frame height  4-height to 240 pixels\n",
    "    while(True):\n",
    "        ret,frame = video_capture.read()\n",
    "        face_landmarks_list = face_recognition.face_landmarks(frame)\n",
    "        for face_landmark in face_landmarks_list:\n",
    "            leftEye = face_landmark['left_eye']\n",
    "            rightEye = face_landmark['right_eye']\n",
    "\n",
    "            leftEAR = eye_aspect_ratio(leftEye)\n",
    "            rightEAR = eye_aspect_ratio(rightEye)\n",
    "            ear = (leftEAR + rightEAR)/2\n",
    "\n",
    "            lpts = np.array(leftEye)\n",
    "            rpts = np.array(rightEye)\n",
    "\n",
    "            cv2.polylines(frame,[lpts],True,(255,255,0),1)\n",
    "            cv2.polylines(frame,[rpts],True,(255,255,0),1)\n",
    "\n",
    "            if ear < MIN_EAR:\n",
    "                COUNTER += 1\n",
    "                if COUNTER >= EYE_AR_CONSEC_FRAMES:\n",
    "                    if not ALARM_ON:\n",
    "                        ALARM_ON = True\n",
    "                        t = threading.Thread(target=sound_alarm ,args=(sound_file,))\n",
    "                        t.start()                    \n",
    "                    cv2.putText(frame,\"Alert You are feeling sleepy\",(5,10),cv2.FONT_HERSHEY_SIMPLEX,0.4,(0,0,255),1)\n",
    "                    \n",
    "            else:\n",
    "                COUNTER = 0\n",
    "                ALARM_ON = False\n",
    "        cv2.putText(frame, \"EAR: {:.2f}\".format(ear), (200, 10), cv2.FONT_HERSHEY_SIMPLEX, 0.4, (0, 0, 255), 1)\n",
    "        cv2.imshow(\"sleep detection\",frame)\n",
    "        if cv2.waitKey(10) & 0xFF == ord('q'):\n",
    "            break\n",
    "\n",
    "    video_capture.release()\n",
    "    cv2.destroyAllWindows()\n",
    "            "
   ]
  },
  {
   "cell_type": "code",
   "execution_count": 6,
   "id": "9a5f9e55-710e-4be4-b00a-6d0503ef1bc7",
   "metadata": {},
   "outputs": [],
   "source": [
    "if __name__ == '__main__':\n",
    "    main()"
   ]
  }
 ],
 "metadata": {
  "kernelspec": {
   "display_name": "Python 3 (ipykernel)",
   "language": "python",
   "name": "python3"
  },
  "language_info": {
   "codemirror_mode": {
    "name": "ipython",
    "version": 3
   },
   "file_extension": ".py",
   "mimetype": "text/x-python",
   "name": "python",
   "nbconvert_exporter": "python",
   "pygments_lexer": "ipython3",
   "version": "3.12.7"
  }
 },
 "nbformat": 4,
 "nbformat_minor": 5
}
